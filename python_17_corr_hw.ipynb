{
 "cells": [
  {
   "cell_type": "code",
   "execution_count": 23,
   "id": "a5b4e44e",
   "metadata": {},
   "outputs": [],
   "source": [
    "import numpy as np\n",
    "import pandas as pd\n",
    "from matplotlib import pyplot as plt\n",
    "import seaborn as sns\n",
    "\n",
    "# импортируем функции библиотеки sklearn чтобы построить модели предсказаний\n",
    "from sklearn.linear_model import LinearRegression\n",
    "from sklearn.model_selection import train_test_split\n",
    "\n",
    "#импортируем модуль и функцию для простого получения остатков при предсказании (величин ошибок)\n",
    "import statsmodels.api as sm\n",
    "from statsmodels.sandbox.regression.predstd import wls_prediction_std"
   ]
  },
  {
   "cell_type": "markdown",
   "id": "3de7b04a",
   "metadata": {},
   "source": [
    "# Задание 1.\n",
    "## Ответить на вопрос: есть ли связь между жёсткостью воды и средней годовой смертностью?\n",
    "Построить точечный график\n",
    "\n",
    "Рассчитать коэффициенты корреляции Пирсона и Спирмена\n",
    "\n",
    "Построить модель линейной регрессии\n",
    "\n",
    "Рассчитать коэффициент детерминации\n",
    "\n",
    "Вывести график остатков"
   ]
  },
  {
   "cell_type": "code",
   "execution_count": 2,
   "id": "9a7db50c",
   "metadata": {},
   "outputs": [
    {
     "data": {
      "text/html": [
       "<div>\n",
       "<style scoped>\n",
       "    .dataframe tbody tr th:only-of-type {\n",
       "        vertical-align: middle;\n",
       "    }\n",
       "\n",
       "    .dataframe tbody tr th {\n",
       "        vertical-align: top;\n",
       "    }\n",
       "\n",
       "    .dataframe thead th {\n",
       "        text-align: right;\n",
       "    }\n",
       "</style>\n",
       "<table border=\"1\" class=\"dataframe\">\n",
       "  <thead>\n",
       "    <tr style=\"text-align: right;\">\n",
       "      <th></th>\n",
       "      <th>Unnamed: 0</th>\n",
       "      <th>location</th>\n",
       "      <th>town</th>\n",
       "      <th>mortality</th>\n",
       "      <th>hardness</th>\n",
       "    </tr>\n",
       "  </thead>\n",
       "  <tbody>\n",
       "    <tr>\n",
       "      <th>0</th>\n",
       "      <td>1</td>\n",
       "      <td>South</td>\n",
       "      <td>Bath</td>\n",
       "      <td>1247</td>\n",
       "      <td>105</td>\n",
       "    </tr>\n",
       "    <tr>\n",
       "      <th>1</th>\n",
       "      <td>2</td>\n",
       "      <td>North</td>\n",
       "      <td>Birkenhead</td>\n",
       "      <td>1668</td>\n",
       "      <td>17</td>\n",
       "    </tr>\n",
       "    <tr>\n",
       "      <th>2</th>\n",
       "      <td>3</td>\n",
       "      <td>South</td>\n",
       "      <td>Birmingham</td>\n",
       "      <td>1466</td>\n",
       "      <td>5</td>\n",
       "    </tr>\n",
       "    <tr>\n",
       "      <th>3</th>\n",
       "      <td>4</td>\n",
       "      <td>North</td>\n",
       "      <td>Blackburn</td>\n",
       "      <td>1800</td>\n",
       "      <td>14</td>\n",
       "    </tr>\n",
       "    <tr>\n",
       "      <th>4</th>\n",
       "      <td>5</td>\n",
       "      <td>North</td>\n",
       "      <td>Blackpool</td>\n",
       "      <td>1609</td>\n",
       "      <td>18</td>\n",
       "    </tr>\n",
       "    <tr>\n",
       "      <th>...</th>\n",
       "      <td>...</td>\n",
       "      <td>...</td>\n",
       "      <td>...</td>\n",
       "      <td>...</td>\n",
       "      <td>...</td>\n",
       "    </tr>\n",
       "    <tr>\n",
       "      <th>56</th>\n",
       "      <td>57</td>\n",
       "      <td>South</td>\n",
       "      <td>Walsall</td>\n",
       "      <td>1527</td>\n",
       "      <td>60</td>\n",
       "    </tr>\n",
       "    <tr>\n",
       "      <th>57</th>\n",
       "      <td>58</td>\n",
       "      <td>South</td>\n",
       "      <td>West Bromwich</td>\n",
       "      <td>1627</td>\n",
       "      <td>53</td>\n",
       "    </tr>\n",
       "    <tr>\n",
       "      <th>58</th>\n",
       "      <td>59</td>\n",
       "      <td>South</td>\n",
       "      <td>West Ham</td>\n",
       "      <td>1486</td>\n",
       "      <td>122</td>\n",
       "    </tr>\n",
       "    <tr>\n",
       "      <th>59</th>\n",
       "      <td>60</td>\n",
       "      <td>South</td>\n",
       "      <td>Wolverhampton</td>\n",
       "      <td>1485</td>\n",
       "      <td>81</td>\n",
       "    </tr>\n",
       "    <tr>\n",
       "      <th>60</th>\n",
       "      <td>61</td>\n",
       "      <td>North</td>\n",
       "      <td>York</td>\n",
       "      <td>1378</td>\n",
       "      <td>71</td>\n",
       "    </tr>\n",
       "  </tbody>\n",
       "</table>\n",
       "<p>61 rows × 5 columns</p>\n",
       "</div>"
      ],
      "text/plain": [
       "    Unnamed: 0 location           town  mortality  hardness\n",
       "0            1    South           Bath       1247       105\n",
       "1            2    North     Birkenhead       1668        17\n",
       "2            3    South     Birmingham       1466         5\n",
       "3            4    North      Blackburn       1800        14\n",
       "4            5    North      Blackpool       1609        18\n",
       "..         ...      ...            ...        ...       ...\n",
       "56          57    South        Walsall       1527        60\n",
       "57          58    South  West Bromwich       1627        53\n",
       "58          59    South       West Ham       1486       122\n",
       "59          60    South  Wolverhampton       1485        81\n",
       "60          61    North           York       1378        71\n",
       "\n",
       "[61 rows x 5 columns]"
      ]
     },
     "execution_count": 2,
     "metadata": {},
     "output_type": "execute_result"
    }
   ],
   "source": [
    "# прочитаем ДС из файла\n",
    "df_water = pd.read_csv('water.csv')\n",
    "df_water"
   ]
  },
  {
   "cell_type": "code",
   "execution_count": 44,
   "id": "0673266b",
   "metadata": {},
   "outputs": [
    {
     "data": {
      "text/plain": [
       "<AxesSubplot:xlabel='hardness', ylabel='mortality'>"
      ]
     },
     "execution_count": 44,
     "metadata": {},
     "output_type": "execute_result"
    },
    {
     "data": {
      "image/png": "[encoded data removed]",
      "text/plain": [
       "<Figure size 432x288 with 1 Axes>"
      ]
     },
     "metadata": {
      "needs_background": "light"
     },
     "output_type": "display_data"
    }
   ],
   "source": [
    "# построим точеную диаграмму. Визуально оценим наличие корреляции \n",
    "df_water.plot(kind='scatter', x='hardness', y='mortality')"
   ]
  },
  {
   "cell_type": "markdown",
   "id": "a819789f",
   "metadata": {},
   "source": [
    "Предополжительно, есть среднесильная обартная связь. \n",
    "\n",
    "**Проверим на коэффициентах корреляции Пирсона и Спирмана**"
   ]
  },
  {
   "cell_type": "code",
   "execution_count": 7,
   "id": "ce397acc",
   "metadata": {},
   "outputs": [
    {
     "data": {
      "text/html": [
       "<div>\n",
       "<style scoped>\n",
       "    .dataframe tbody tr th:only-of-type {\n",
       "        vertical-align: middle;\n",
       "    }\n",
       "\n",
       "    .dataframe tbody tr th {\n",
       "        vertical-align: top;\n",
       "    }\n",
       "\n",
       "    .dataframe thead th {\n",
       "        text-align: right;\n",
       "    }\n",
       "</style>\n",
       "<table border=\"1\" class=\"dataframe\">\n",
       "  <thead>\n",
       "    <tr style=\"text-align: right;\">\n",
       "      <th></th>\n",
       "      <th>hardness</th>\n",
       "      <th>mortality</th>\n",
       "    </tr>\n",
       "  </thead>\n",
       "  <tbody>\n",
       "    <tr>\n",
       "      <th>hardness</th>\n",
       "      <td>1.000000</td>\n",
       "      <td>-0.654849</td>\n",
       "    </tr>\n",
       "    <tr>\n",
       "      <th>mortality</th>\n",
       "      <td>-0.654849</td>\n",
       "      <td>1.000000</td>\n",
       "    </tr>\n",
       "  </tbody>\n",
       "</table>\n",
       "</div>"
      ],
      "text/plain": [
       "           hardness  mortality\n",
       "hardness   1.000000  -0.654849\n",
       "mortality -0.654849   1.000000"
      ]
     },
     "execution_count": 7,
     "metadata": {},
     "output_type": "execute_result"
    }
   ],
   "source": [
    "#  Рассчитаем коэф корреляции Пирсона\n",
    "df_water[['hardness', 'mortality']].corr()"
   ]
  },
  {
   "cell_type": "markdown",
   "id": "a0ac185c",
   "metadata": {},
   "source": [
    "Как и предполагалось по точечной диаграмме, наблюдаем средне-сильную обратную связь"
   ]
  },
  {
   "cell_type": "code",
   "execution_count": 45,
   "id": "42ba7510",
   "metadata": {},
   "outputs": [
    {
     "data": {
      "text/html": [
       "<div>\n",
       "<style scoped>\n",
       "    .dataframe tbody tr th:only-of-type {\n",
       "        vertical-align: middle;\n",
       "    }\n",
       "\n",
       "    .dataframe tbody tr th {\n",
       "        vertical-align: top;\n",
       "    }\n",
       "\n",
       "    .dataframe thead th {\n",
       "        text-align: right;\n",
       "    }\n",
       "</style>\n",
       "<table border=\"1\" class=\"dataframe\">\n",
       "  <thead>\n",
       "    <tr style=\"text-align: right;\">\n",
       "      <th></th>\n",
       "      <th>hardness</th>\n",
       "      <th>mortality</th>\n",
       "    </tr>\n",
       "  </thead>\n",
       "  <tbody>\n",
       "    <tr>\n",
       "      <th>hardness</th>\n",
       "      <td>1.000000</td>\n",
       "      <td>-0.631665</td>\n",
       "    </tr>\n",
       "    <tr>\n",
       "      <th>mortality</th>\n",
       "      <td>-0.631665</td>\n",
       "      <td>1.000000</td>\n",
       "    </tr>\n",
       "  </tbody>\n",
       "</table>\n",
       "</div>"
      ],
      "text/plain": [
       "           hardness  mortality\n",
       "hardness   1.000000  -0.631665\n",
       "mortality -0.631665   1.000000"
      ]
     },
     "execution_count": 45,
     "metadata": {},
     "output_type": "execute_result"
    }
   ],
   "source": [
    "#  Рассчитаем коэф корреляции Спирмана для проверки \n",
    "# Как один из факторов доп расчета, жесткость воды - это дискретная величина \n",
    "df_water[['hardness', 'mortality']].corr(method='spearman')"
   ]
  },
  {
   "cell_type": "markdown",
   "id": "383b9a9f",
   "metadata": {},
   "source": [
    "Коэф корреляции Спирмана также подтверждает наличие средне-сильной обратной связи\n",
    "\n",
    "**Предварительный вывод:**\n",
    "Между показателем жесткости воды и кол-во смертей есть статистическая обратная связь"
   ]
  },
  {
   "cell_type": "markdown",
   "id": "bb7840f8",
   "metadata": {},
   "source": [
    "# Построим модель предсказаний на основании тех данных, что у нас есть"
   ]
  },
  {
   "cell_type": "code",
   "execution_count": 10,
   "id": "458c39a2",
   "metadata": {},
   "outputs": [],
   "source": [
    "# Зададим переменные для модели\n",
    "X = df_water[['hardness']]\n",
    "y = df_water['mortality']"
   ]
  },
  {
   "cell_type": "code",
   "execution_count": 11,
   "id": "61ca91e6",
   "metadata": {},
   "outputs": [],
   "source": [
    "# разделим данные на тренировочные и тестовые. Размер тестовой базы - 30%\n",
    "# укажем постоянный сценарий генератора псевдослучайных чисел через random_state (можеть быть любое значение)\n",
    "X_train, X_test, y_train, y_test = train_test_split(X, y, test_size=0.30, random_state=19)"
   ]
  },
  {
   "cell_type": "code",
   "execution_count": 12,
   "id": "eedfcd25",
   "metadata": {},
   "outputs": [
    {
     "data": {
      "text/plain": [
       "(42, 1)"
      ]
     },
     "execution_count": 12,
     "metadata": {},
     "output_type": "execute_result"
    }
   ],
   "source": [
    "# Посмотрим на размер тернировочной базы\n",
    "X_train.shape"
   ]
  },
  {
   "cell_type": "code",
   "execution_count": 14,
   "id": "d65a73a1",
   "metadata": {},
   "outputs": [
    {
     "data": {
      "text/plain": [
       "LinearRegression()"
      ]
     },
     "execution_count": 14,
     "metadata": {},
     "output_type": "execute_result"
    }
   ],
   "source": [
    "# Зададим переменную модели\n",
    "model = LinearRegression()\n",
    "# проведем обучение модели на тренировочных данных\n",
    "model.fit(X_train, y_train) #подбираем оптимальные коэффециенты для тех данных, что мы загрузили в тренировочную базу"
   ]
  },
  {
   "cell_type": "code",
   "execution_count": 15,
   "id": "95dc5971",
   "metadata": {},
   "outputs": [
    {
     "data": {
      "text/plain": [
       "array([-3.09854726])"
      ]
     },
     "execution_count": 15,
     "metadata": {},
     "output_type": "execute_result"
    }
   ],
   "source": [
    "model.coef_ # a в линейной формуле зависимости y = ax + b"
   ]
  },
  {
   "cell_type": "code",
   "execution_count": 16,
   "id": "3ad09d5c",
   "metadata": {},
   "outputs": [
    {
     "data": {
      "text/plain": [
       "1662.6956898036124"
      ]
     },
     "execution_count": 16,
     "metadata": {},
     "output_type": "execute_result"
    }
   ],
   "source": [
    "model.intercept_ # b в линейной формуле зависимости y = ax + b"
   ]
  },
  {
   "cell_type": "code",
   "execution_count": 17,
   "id": "419b99d3",
   "metadata": {},
   "outputs": [
    {
     "data": {
      "text/plain": [
       "array([1284.67292443, 1644.10440626, 1442.69883454, 1365.23515311,\n",
       "       1619.3160282 , 1380.7278894 , 1616.21748095, 1411.71336197,\n",
       "       1622.41457546, 1647.20295352, 1476.78285437, 1579.03491386,\n",
       "       1637.90731175, 1548.04944129, 1610.02038643, 1600.72474466,\n",
       "       1421.00900374, 1597.6261974 , 1526.35961049])"
      ]
     },
     "execution_count": 17,
     "metadata": {},
     "output_type": "execute_result"
    }
   ],
   "source": [
    "# рассчитаем предсказания для тестового куска данных \n",
    "y_pred = model.predict(X_test)\n",
    "# посмотрим на список полученных значений\n",
    "y_pred"
   ]
  },
  {
   "cell_type": "code",
   "execution_count": 18,
   "id": "7dc82dc1",
   "metadata": {},
   "outputs": [
    {
     "data": {
      "text/plain": [
       "0.4269737182510156"
      ]
     },
     "execution_count": 18,
     "metadata": {},
     "output_type": "execute_result"
    }
   ],
   "source": [
    "#рассчитаем коэф детерминации для тестового куска\n",
    "model.score(X_test, y_test) "
   ]
  },
  {
   "cell_type": "markdown",
   "id": "1eb53b4d",
   "metadata": {},
   "source": [
    "Получили коэф детерминации = 0.43 \n",
    "\n",
    "Относительно низкий показатель коэффициента детерминации говорит о том, что в прогнозируемых данных большие остатки (разница между предсказанными значениями и показателями тестовой части ДС)\n",
    "\n",
    "Считаю, что в первую очередь такая точность модели обусловлена небольгшим кол-вом тренировочных данных "
   ]
  },
  {
   "cell_type": "code",
   "execution_count": 19,
   "id": "36819c22",
   "metadata": {},
   "outputs": [
    {
     "data": {
      "text/plain": [
       "[<matplotlib.lines.Line2D at 0x1d26827f400>]"
      ]
     },
     "execution_count": 19,
     "metadata": {},
     "output_type": "execute_result"
    },
    {
     "data": {
      "image/png": "[encoded data removed]",
      "text/plain": [
       "<Figure size 432x288 with 1 Axes>"
      ]
     },
     "metadata": {
      "needs_background": "light"
     },
     "output_type": "display_data"
    }
   ],
   "source": [
    "# Построим точечную диаграмму тестовых данных и сравним с линейной регрессией\n",
    "plt.scatter(X_test, y_test)\n",
    "plt.plot(X_test, y_pred, c='r')"
   ]
  },
  {
   "cell_type": "markdown",
   "id": "dcbd33a0",
   "metadata": {},
   "source": [
    "На графике видим разброс от линии регрессии. Визуально только 1 значение можно посчитать выбросом (Смертность около 2000 при значении жесткости воды около 10). Из этого можно сделать вывод, что, **в целом, модель построена верно**"
   ]
  },
  {
   "cell_type": "markdown",
   "id": "92a72390",
   "metadata": {},
   "source": [
    "## Рассчитаем остатки и дополнитетльные статистические показатели модели с помощью библиотеки statsmodels"
   ]
  },
  {
   "cell_type": "code",
   "execution_count": 24,
   "id": "e319ebba",
   "metadata": {},
   "outputs": [
    {
     "name": "stderr",
     "output_type": "stream",
     "text": [
      "D:\\python a\\lib\\site-packages\\statsmodels\\tsa\\tsatools.py:142: FutureWarning: In a future version of pandas all arguments of concat except for the argument 'objs' will be keyword-only\n",
      "  x = pd.concat(x[::order], 1)\n"
     ]
    }
   ],
   "source": [
    "# Добавим константу из сформированной тренировочной базы\n",
    "X_const = sm.add_constant(X_train) #техническая особенность библиотеки. Надо руками добавить константу"
   ]
  },
  {
   "cell_type": "code",
   "execution_count": 26,
   "id": "eb04bd70",
   "metadata": {},
   "outputs": [
    {
     "name": "stdout",
     "output_type": "stream",
     "text": [
      "                            OLS Regression Results                            \n",
      "==============================================================================\n",
      "Dep. Variable:              mortality   R-squared:                       0.417\n",
      "Model:                            OLS   Adj. R-squared:                  0.403\n",
      "Method:                 Least Squares   F-statistic:                     28.66\n",
      "Date:                Sun, 15 May 2022   Prob (F-statistic):           3.81e-06\n",
      "Time:                        12:24:02   Log-Likelihood:                -267.69\n",
      "No. Observations:                  42   AIC:                             539.4\n",
      "Df Residuals:                      40   BIC:                             542.9\n",
      "Df Model:                           1                                         \n",
      "Covariance Type:            nonrobust                                         \n",
      "==============================================================================\n",
      "                 coef    std err          t      P>|t|      [0.025      0.975]\n",
      "------------------------------------------------------------------------------\n",
      "const       1662.6957     36.088     46.073      0.000    1589.759    1735.632\n",
      "hardness      -3.0985      0.579     -5.354      0.000      -4.268      -1.929\n",
      "==============================================================================\n",
      "Omnibus:                        0.739   Durbin-Watson:                   2.292\n",
      "Prob(Omnibus):                  0.691   Jarque-Bera (JB):                0.738\n",
      "Skew:                          -0.025   Prob(JB):                        0.691\n",
      "Kurtosis:                       2.352   Cond. No.                         100.\n",
      "==============================================================================\n",
      "\n",
      "Notes:\n",
      "[1] Standard Errors assume that the covariance matrix of the errors is correctly specified.\n"
     ]
    }
   ],
   "source": [
    "# Инициируем переменную модели и запустим обучение модели\n",
    "model = sm.OLS(y_train, X_const)\n",
    "result = model.fit()\n",
    "# выведем статистические показатели модели\n",
    "print(result.summary())"
   ]
  },
  {
   "cell_type": "code",
   "execution_count": 57,
   "id": "84e7bbb2",
   "metadata": {},
   "outputs": [
    {
     "data": {
      "image/png": "[encoded data removed]",
      "text/plain": [
       "<Figure size 576x432 with 1 Axes>"
      ]
     },
     "metadata": {
      "needs_background": "light"
     },
     "output_type": "display_data"
    }
   ],
   "source": [
    "prstd, iv_l, iv_u = wls_prediction_std(result)\n",
    "# для каждой точки получаем не просто сам прогноз, но и доверительный интервал\n",
    "# с увеличемнием кол-ва факторов этот интервал будет уменьшаться \n",
    "fig, ax = plt.subplots(figsize=(8,6))\n",
    "\n",
    "# создадим сабплот точечную диаграмму результатов тренировочной базы\n",
    "ax.plot(X_const.iloc[:, 1], y_train, 'o', label='data')\n",
    "# сабплот линии регрессии тренировочного ДС\n",
    "ax.plot(X_const.iloc[:, 1], result.fittedvalues, 'r--', label='OLS')\n",
    "# верхний доверительный интервал\n",
    "ax.plot(X_const.iloc[:, 1], iv_u, 'g--', label='verification interval')\n",
    "# нижний доверительный интервал\n",
    "ax.plot(X_const.iloc[:, 1], iv_l, 'g--')\n",
    "ax.legend(loc='best');"
   ]
  },
  {
   "cell_type": "code",
   "execution_count": 50,
   "id": "f4413136",
   "metadata": {},
   "outputs": [
    {
     "data": {
      "image/png": "[encoded data removed]",
      "text/plain": [
       "<Figure size 432x288 with 1 Axes>"
      ]
     },
     "metadata": {
      "needs_background": "light"
     },
     "output_type": "display_data"
    },
    {
     "data": {
      "image/png": "[encoded data removed]",
      "text/plain": [
       "<Figure size 432x432 with 3 Axes>"
      ]
     },
     "metadata": {
      "needs_background": "light"
     },
     "output_type": "display_data"
    }
   ],
   "source": [
    "# через функцию resid в библиотеке statsmodels получим значения остатков и выведем их посмотрим их на точечной диаграмме\n",
    "plt.scatter(X_const.iloc[:, 1], result.resid)\n",
    "# дополнительно, с помощью seaborn.jointplot(kind='reg') посмотрим на линейную регрессию остатоков\n",
    "sns.jointplot(x=X_const.iloc[:, 1], y=result.resid, kind='reg')\n",
    "plt.show()"
   ]
  },
  {
   "cell_type": "markdown",
   "id": "ede17137",
   "metadata": {},
   "source": [
    "Остатки распределны с нулевым средним значением \n",
    "На точечной диаграмме наблюдаем рассеяние точек. Системы не просматривается.\n",
    "\n",
    "Из этого можем сделать вывод, наклон линии регрессии для ДС выбран верно. "
   ]
  },
  {
   "cell_type": "code",
   "execution_count": 29,
   "id": "49f63ba2",
   "metadata": {},
   "outputs": [
    {
     "data": {
      "text/plain": [
       "(array([1., 1., 4., 6., 7., 7., 3., 4., 7., 2.]),\n",
       " array([-337.6261974 , -276.83346112, -216.04072483, -155.24798854,\n",
       "         -94.45525226,  -33.66251597,   27.13022031,   87.9229566 ,\n",
       "         148.71569288,  209.50842917,  270.30116546]),\n",
       " <BarContainer object of 10 artists>)"
      ]
     },
     "execution_count": 29,
     "metadata": {},
     "output_type": "execute_result"
    },
    {
     "data": {
      "image/png": "[encoded data removed]",
      "text/plain": [
       "<Figure size 432x288 with 1 Axes>"
      ]
     },
     "metadata": {
      "needs_background": "light"
     },
     "output_type": "display_data"
    }
   ],
   "source": [
    "plt.hist(result.resid)"
   ]
  },
  {
   "cell_type": "markdown",
   "id": "a5d9750f",
   "metadata": {},
   "source": [
    "Гисторамма не выглядит, как нормальное распределние. Полагаю, что при большем кол-ве входных параметров - гистрогамма будет приближается к нормальному распределнию "
   ]
  },
  {
   "cell_type": "markdown",
   "id": "481ef0ee",
   "metadata": {},
   "source": [
    "# Задание 2.\n",
    "## Ответить на вопрос: сохраняется ли аналогичная зависимость для северных и южных городов по отдельности?\n",
    "\n",
    "Разделить данные на 2 группы\n",
    "\n",
    "Повторить аналогичные шаги из пункта 1 для каждой группы по отдельности"
   ]
  },
  {
   "cell_type": "code",
   "execution_count": 62,
   "id": "5481e53a",
   "metadata": {},
   "outputs": [],
   "source": [
    "# разделим данные на 2 группы. \n",
    "df_water_south = df_water[df_water['location'] == 'South']\n",
    "df_water_north = df_water[df_water['location'] == 'North']"
   ]
  },
  {
   "cell_type": "code",
   "execution_count": 64,
   "id": "7afde8a3",
   "metadata": {},
   "outputs": [
    {
     "data": {
      "text/plain": [
       "<AxesSubplot:title={'center':'North'}, xlabel='hardness', ylabel='mortality'>"
      ]
     },
     "execution_count": 64,
     "metadata": {},
     "output_type": "execute_result"
    },
    {
     "data": {
      "image/png": "[encoded data removed]",
      "text/plain": [
       "<Figure size 432x288 with 1 Axes>"
      ]
     },
     "metadata": {
      "needs_background": "light"
     },
     "output_type": "display_data"
    },
    {
     "data": {
      "image/png": "[encoded data removed]",
      "text/plain": [
       "<Figure size 432x288 with 1 Axes>"
      ]
     },
     "metadata": {
      "needs_background": "light"
     },
     "output_type": "display_data"
    }
   ],
   "source": [
    "# Построим точечные диаграммы по локациям\n",
    "df_water_south.plot(kind='scatter', x='hardness', y='mortality', title='South')\n",
    "df_water_north.plot(kind='scatter', x='hardness', y='mortality', title='North')"
   ]
  },
  {
   "cell_type": "markdown",
   "id": "1a0189e2",
   "metadata": {},
   "source": [
    "**Из визуализации наблюдаем:**\n",
    "1. На юге прослеживается слабая линейная зависимость\n",
    "2. На севере показатели сконцентрированы в левой части диаграммы, что говорит о том, что в большей части городов севера вода мягкая. Это может значить, что никакой связи между значением жесткости воды и количеством смерте просто нет."
   ]
  },
  {
   "cell_type": "code",
   "execution_count": 67,
   "id": "928ce481",
   "metadata": {},
   "outputs": [
    {
     "name": "stdout",
     "output_type": "stream",
     "text": [
      "Коэффициент корреляции Пирсон: \n",
      "Для юга:            hardness  mortality\n",
      "hardness   1.000000  -0.602153\n",
      "mortality -0.602153   1.000000\n",
      "\n",
      "Для севера:            hardness  mortality\n",
      "hardness   1.000000  -0.368598\n",
      "mortality -0.368598   1.000000\n",
      "\n",
      "Коэффициент корреляции Спирмана: \n",
      "Для юга:            hardness  mortality\n",
      "hardness   1.000000  -0.595723\n",
      "mortality -0.595723   1.000000\n",
      "\n",
      "Для севера:            hardness  mortality\n",
      "hardness   1.000000  -0.404208\n",
      "mortality -0.404208   1.000000\n"
     ]
    }
   ],
   "source": [
    "#  Рассчитаем коэффициенты корреляции Пирсона\n",
    "print(f\"\"\"Коэффициент корреляции Пирсон: \n",
    "Для юга: {df_water_south[['hardness', 'mortality']].corr()}\n",
    "\n",
    "Для севера: {df_water_north[['hardness', 'mortality']].corr()}\n",
    "\n",
    "Коэффициент корреляции Спирмана: \n",
    "Для юга: {df_water_south[['hardness', 'mortality']].corr(method='spearman')}\n",
    "\n",
    "Для севера: {df_water_north[['hardness', 'mortality']].corr(method='spearman')}\"\"\")\n"
   ]
  },
  {
   "cell_type": "markdown",
   "id": "a4374281",
   "metadata": {},
   "source": [
    "Коэф корреляции Спирмана говорит нам о том, что связи между показателями в разделенных по локациям ДС слабее, чем в едином. \n",
    "Благодаря визуализации и большой разницы между коэф корреляции Пирсона и Спирмана во внимание будем принимать коэф. Спирмана, так как он меньше подвержен выбросам. \n",
    "\n",
    "**В обоих ДС наблюдаем слабую отрицательную связь**"
   ]
  },
  {
   "cell_type": "markdown",
   "id": "680bfc01",
   "metadata": {},
   "source": [
    "# Построим модель предсказаний для обоих ДС"
   ]
  },
  {
   "cell_type": "code",
   "execution_count": 80,
   "id": "17822c47",
   "metadata": {},
   "outputs": [
    {
     "data": {
      "text/plain": [
       "LinearRegression()"
      ]
     },
     "execution_count": 80,
     "metadata": {},
     "output_type": "execute_result"
    }
   ],
   "source": [
    "X_s = df_water_south[['hardness']]\n",
    "y_s = df_water_south['mortality']\n",
    "X_n = df_water_north[['hardness']]\n",
    "y_n = df_water_north['mortality']\n",
    "\n",
    "# Учитывая, что данных стало еще меньше, отдадим на тренировку 90% ДС \n",
    "X_s_train, X_s_test, y_s_train, y_s_test = train_test_split(X_s, y_s, test_size=0.10, random_state=32)\n",
    "X_n_train, X_n_test, y_n_train, y_n_test = train_test_split(X_n, y_n, test_size=0.10, random_state=32)\n",
    "\n",
    "model_s = LinearRegression()\n",
    "model_n = LinearRegression()\n",
    "model_s.fit(X_s_train, y_s_train)\n",
    "model_n.fit(X_n_train, y_n_train)"
   ]
  },
  {
   "cell_type": "code",
   "execution_count": 81,
   "id": "1888d85e",
   "metadata": {},
   "outputs": [
    {
     "name": "stdout",
     "output_type": "stream",
     "text": [
      "Коэффициент линейной зависимости для юга: [-2.11030562]\n",
      "Постоянная для юга: 1526.96913602583\n",
      "Коэффициент линейной зависимости для севера: [-2.43541169]\n",
      "Постоянная для севера:1697.4147112475782\n",
      "\n"
     ]
    }
   ],
   "source": [
    "print(f\"\"\"Коэффициент линейной зависимости для юга: {model_s.coef_}\n",
    "Постоянная для юга: {model_s.intercept_}\n",
    "Коэффициент линейной зависимости для севера: {model_n.coef_}\n",
    "Постоянная для севера:{model_n.intercept_}\n",
    "\"\"\")"
   ]
  },
  {
   "cell_type": "code",
   "execution_count": 82,
   "id": "3335e8af",
   "metadata": {},
   "outputs": [],
   "source": [
    "y_s_pred = model_s.predict(X_s_test)\n",
    "y_n_pred = model_n.predict(X_n_test)"
   ]
  },
  {
   "cell_type": "code",
   "execution_count": 83,
   "id": "16f9b0e1",
   "metadata": {},
   "outputs": [
    {
     "name": "stdout",
     "output_type": "stream",
     "text": [
      "коэф детерминации для юга: 0.8760334283395004 \n",
      "коэф детерминации для севера: -1.8175928274497197 \n"
     ]
    }
   ],
   "source": [
    "#рассчитаем коэф детерминации для тестового куска\n",
    "print(f\"\"\"коэф детерминации для юга: {model_s.score(X_s_test, y_s_test)} \n",
    "коэф детерминации для севера: {model_n.score(X_n_test, y_n_test)} \"\"\")\n",
    "\n",
    "# При показателях тренировочной базы в 20% получили: \n",
    "# коэф детерминации для юга: 0.176636001811051 \n",
    "# коэф детерминации для севера: -0.4697769333996473 "
   ]
  },
  {
   "cell_type": "markdown",
   "id": "5023d100",
   "metadata": {},
   "source": [
    "При показателях тестовой базы в 30% получили: \n",
    "1. коэф детерминации для юга: -0.03499977700726786 \n",
    "2. коэф детерминации для севера: -1.0240859859492204 \n",
    "\n",
    "При показателях тестовой базы в 20% получили: \n",
    "1. коэф детерминации для юга: 0.176636001811051 \n",
    "2. коэф детерминации для севера: -0.4697769333996473 \n",
    "\n",
    "При показателях тестовой базы в 10% получили: \n",
    "1. коэф детерминации для юга: 0.8760334283395004 \n",
    "2. коэф детерминации для севера: -1.8175928274497197 \n",
    "\n",
    "Чем большую часть ДС мы отдаем на тренировку, тем больший коэффициент детерминации получаем по югу и тем меньший по северу, что косвенно подтверждает предыдущие выводы. \n",
    "Можно попробовать исключить выбросы из базы севера и попробовать обучить модель на новой базе, посмотреть результаты. "
   ]
  },
  {
   "cell_type": "code",
   "execution_count": 84,
   "id": "f1af6e54",
   "metadata": {},
   "outputs": [
    {
     "data": {
      "text/plain": [
       "<AxesSubplot:>"
      ]
     },
     "execution_count": 84,
     "metadata": {},
     "output_type": "execute_result"
    },
    {
     "data": {
      "image/png": "[encoded data removed]",
      "text/plain": [
       "<Figure size 432x288 with 1 Axes>"
      ]
     },
     "metadata": {
      "needs_background": "light"
     },
     "output_type": "display_data"
    }
   ],
   "source": [
    "df_water_north['mortality'].plot(kind='box')\n",
    "# видим один выброс около 2000 смертей. Исключим его из ДС "
   ]
  },
  {
   "cell_type": "code",
   "execution_count": 89,
   "id": "309d003d",
   "metadata": {},
   "outputs": [
    {
     "name": "stdout",
     "output_type": "stream",
     "text": [
      "\n",
      "Коэффициент линейной зависимости для севера: [-2.06406736]\n",
      "Постоянная для севера:1681.4729023462419\n",
      "\n",
      " \n",
      "коэф детерминации для севера: -2.5083051232937725 \n"
     ]
    }
   ],
   "source": [
    "df_water_north_clear = df_water_north[df_water_north['mortality'] < 1900]\n",
    "X_n = df_water_north_clear[['hardness']]\n",
    "y_n = df_water_north_clear['mortality']\n",
    "X_n_train, X_n_test, y_n_train, y_n_test = train_test_split(X_n, y_n, test_size=0.10, random_state=32)\n",
    "model_n = LinearRegression()\n",
    "model_n.fit(X_n_train, y_n_train)\n",
    "print(f\"\"\"\n",
    "Коэффициент линейной зависимости для севера: {model_n.coef_}\n",
    "Постоянная для севера:{model_n.intercept_}\n",
    "\"\"\")\n",
    "y_n_pred = model_n.predict(X_n_test)\n",
    "print(f\"\"\" \n",
    "коэф детерминации для севера: {model_n.score(X_n_test, y_n_test)} \"\"\")"
   ]
  },
  {
   "cell_type": "code",
   "execution_count": 90,
   "id": "4311d6bd",
   "metadata": {},
   "outputs": [
    {
     "name": "stdout",
     "output_type": "stream",
     "text": [
      "Коэффициент корреляции Пирсон: \n",
      "Для севера:            hardness  mortality\n",
      "hardness   1.000000  -0.341395\n",
      "mortality -0.341395   1.000000\n",
      "\n",
      "Коэффициент корреляции Спирмана: \n",
      "Для севера:            hardness  mortality\n",
      "hardness   1.000000  -0.357378\n",
      "mortality -0.357378   1.000000\n"
     ]
    }
   ],
   "source": [
    "print(f\"\"\"Коэффициент корреляции Пирсон: \n",
    "Для севера: {df_water_north_clear[['hardness', 'mortality']].corr()}\n",
    "\n",
    "Коэффициент корреляции Спирмана: \n",
    "Для севера: {df_water_north_clear[['hardness', 'mortality']].corr(method='spearman')}\"\"\")"
   ]
  },
  {
   "cell_type": "markdown",
   "id": "3b2f30a3",
   "metadata": {},
   "source": [
    "Несмотря на то, что коэффициенты Спирмана и Пирсона выровнялись между собой (значит выброс влиял на коэф корреляции Пирсона и мы ранее сделали верный вывод), коэф детерминации в любом случае имеет отрицательное значение. Отсюда следует, что вычисление среднего работает точнее, чем созданная нами модель "
   ]
  },
  {
   "cell_type": "markdown",
   "id": "8b28af64",
   "metadata": {},
   "source": [
    "# Построим графики для моделей юга и севера без выбросов"
   ]
  },
  {
   "cell_type": "code",
   "execution_count": 94,
   "id": "5a7d6310",
   "metadata": {},
   "outputs": [
    {
     "data": {
      "text/plain": [
       "Text(0.5, 1.0, 'South')"
      ]
     },
     "execution_count": 94,
     "metadata": {},
     "output_type": "execute_result"
    },
    {
     "data": {
      "image/png": "[encoded data removed]",
      "text/plain": [
       "<Figure size 432x288 with 1 Axes>"
      ]
     },
     "metadata": {
      "needs_background": "light"
     },
     "output_type": "display_data"
    }
   ],
   "source": [
    "plt.scatter(X_s_test, y_s_test)\n",
    "plt.plot(X_s_test, y_s_pred, c='r')\n",
    "plt.title('South')"
   ]
  },
  {
   "cell_type": "code",
   "execution_count": 104,
   "id": "7adabe8b",
   "metadata": {},
   "outputs": [
    {
     "data": {
      "text/plain": [
       "Text(0.5, 1.0, 'South')"
      ]
     },
     "execution_count": 104,
     "metadata": {},
     "output_type": "execute_result"
    },
    {
     "data": {
      "image/png": "[encoded data removed]",
      "text/plain": [
       "<Figure size 432x288 with 1 Axes>"
      ]
     },
     "metadata": {
      "needs_background": "light"
     },
     "output_type": "display_data"
    }
   ],
   "source": [
    "# Изменим модель тестовый размер на 20% и перезапустим график \n",
    "X_s_train, X_s_test, y_s_train, y_s_test = train_test_split(X_s, y_s, test_size=0.20, random_state=32)\n",
    "model_s = LinearRegression()\n",
    "model_s.fit(X_n_train, y_n_train)\n",
    "y_s_pred = model_s.predict(X_s_test)\n",
    "plt.scatter(X_s_test, y_s_test)\n",
    "plt.plot(X_s_test, y_s_pred, c='r')\n",
    "plt.title('South')"
   ]
  },
  {
   "cell_type": "code",
   "execution_count": 105,
   "id": "0ac7055f",
   "metadata": {},
   "outputs": [
    {
     "data": {
      "text/plain": [
       "Text(0.5, 1.0, 'South')"
      ]
     },
     "execution_count": 105,
     "metadata": {},
     "output_type": "execute_result"
    },
    {
     "data": {
      "image/png": "[encoded data removed]",
      "text/plain": [
       "<Figure size 432x288 with 1 Axes>"
      ]
     },
     "metadata": {
      "needs_background": "light"
     },
     "output_type": "display_data"
    }
   ],
   "source": [
    "plt.scatter(X_n_test, y_n_test)\n",
    "plt.plot(X_n_test, y_n_pred, c='r')\n",
    "plt.title('South')"
   ]
  },
  {
   "cell_type": "markdown",
   "id": "74d1cde8",
   "metadata": {},
   "source": [
    "В обоих выборках, визуально, модель показывает очень плохие результаты. \n",
    "\n",
    "## Проверим коэф детерминации "
   ]
  },
  {
   "cell_type": "code",
   "execution_count": 108,
   "id": "748b64bb",
   "metadata": {},
   "outputs": [
    {
     "name": "stdout",
     "output_type": "stream",
     "text": [
      "Статистические показатели для юга:\n",
      "                            OLS Regression Results                            \n",
      "==============================================================================\n",
      "Dep. Variable:              mortality   R-squared:                       0.246\n",
      "Model:                            OLS   Adj. R-squared:                  0.204\n",
      "Method:                 Least Squares   F-statistic:                     5.869\n",
      "Date:                Mon, 16 May 2022   Prob (F-statistic):             0.0262\n",
      "Time:                        10:50:26   Log-Likelihood:                -123.77\n",
      "No. Observations:                  20   AIC:                             251.5\n",
      "Df Residuals:                      18   BIC:                             253.5\n",
      "Df Model:                           1                                         \n",
      "Covariance Type:            nonrobust                                         \n",
      "==============================================================================\n",
      "                 coef    std err          t      P>|t|      [0.025      0.975]\n",
      "------------------------------------------------------------------------------\n",
      "const       1519.4351     55.035     27.609      0.000    1403.811    1635.059\n",
      "hardness      -1.7912      0.739     -2.423      0.026      -3.345      -0.238\n",
      "==============================================================================\n",
      "Omnibus:                        0.790   Durbin-Watson:                   1.954\n",
      "Prob(Omnibus):                  0.674   Jarque-Bera (JB):                0.695\n",
      "Skew:                          -0.091   Prob(JB):                        0.707\n",
      "Kurtosis:                       2.105   Cond. No.                         147.\n",
      "==============================================================================\n",
      "\n",
      "Notes:\n",
      "[1] Standard Errors assume that the covariance matrix of the errors is correctly specified.\n",
      "===================================================================\n",
      "\n",
      "===================================================================\n",
      "Статистические показатели для севера:\n",
      "                            OLS Regression Results                            \n",
      "==============================================================================\n",
      "Dep. Variable:              mortality   R-squared:                       0.160\n",
      "Model:                            OLS   Adj. R-squared:                  0.130\n",
      "Method:                 Least Squares   F-statistic:                     5.328\n",
      "Date:                Mon, 16 May 2022   Prob (F-statistic):             0.0286\n",
      "Time:                        10:50:26   Log-Likelihood:                -185.69\n",
      "No. Observations:                  30   AIC:                             375.4\n",
      "Df Residuals:                      28   BIC:                             378.2\n",
      "Df Model:                           1                                         \n",
      "Covariance Type:            nonrobust                                         \n",
      "==============================================================================\n",
      "                 coef    std err          t      P>|t|      [0.025      0.975]\n",
      "------------------------------------------------------------------------------\n",
      "const       1681.4729     34.359     48.938      0.000    1611.091    1751.855\n",
      "hardness      -2.0641      0.894     -2.308      0.029      -3.896      -0.232\n",
      "==============================================================================\n",
      "Omnibus:                        6.796   Durbin-Watson:                   3.344\n",
      "Prob(Omnibus):                  0.033   Jarque-Bera (JB):                2.232\n",
      "Skew:                          -0.239   Prob(JB):                        0.328\n",
      "Kurtosis:                       1.752   Cond. No.                         59.2\n",
      "==============================================================================\n",
      "\n",
      "Notes:\n",
      "[1] Standard Errors assume that the covariance matrix of the errors is correctly specified.\n"
     ]
    },
    {
     "name": "stderr",
     "output_type": "stream",
     "text": [
      "D:\\python a\\lib\\site-packages\\statsmodels\\tsa\\tsatools.py:142: FutureWarning: In a future version of pandas all arguments of concat except for the argument 'objs' will be keyword-only\n",
      "  x = pd.concat(x[::order], 1)\n",
      "D:\\python a\\lib\\site-packages\\statsmodels\\tsa\\tsatools.py:142: FutureWarning: In a future version of pandas all arguments of concat except for the argument 'objs' will be keyword-only\n",
      "  x = pd.concat(x[::order], 1)\n"
     ]
    }
   ],
   "source": [
    "X_s_const = sm.add_constant(X_s_train)\n",
    "model_s = sm.OLS(y_s_train, X_s_const)\n",
    "result_s = model_s.fit()\n",
    "# выведем статистические показатели модели\n",
    "print('Статистические показатели для юга:')\n",
    "print(result_s.summary())\n",
    "print(\"\"\"===================================================================\n",
    "\n",
    "===================================================================\"\"\")\n",
    "\n",
    "X_n_const = sm.add_constant(X_n_train)\n",
    "model_n = sm.OLS(y_n_train, X_n_const)\n",
    "result_n = model_n.fit()\n",
    "# выведем статистические показатели модели\n",
    "print('Статистические показатели для севера:')\n",
    "print(result_n.summary())"
   ]
  },
  {
   "cell_type": "code",
   "execution_count": 109,
   "id": "0db19789",
   "metadata": {},
   "outputs": [
    {
     "data": {
      "image/png": "[encoded data removed]",
      "text/plain": [
       "<Figure size 432x288 with 1 Axes>"
      ]
     },
     "metadata": {
      "needs_background": "light"
     },
     "output_type": "display_data"
    },
    {
     "data": {
      "image/png": "[encoded data removed]",
      "text/plain": [
       "<Figure size 432x432 with 3 Axes>"
      ]
     },
     "metadata": {
      "needs_background": "light"
     },
     "output_type": "display_data"
    }
   ],
   "source": [
    "# через функцию resid в библиотеке statsmodels получим значения остатков и выведем их посмотрим их на точечной диаграмме\n",
    "plt.scatter(X_s_const.iloc[:, 1], result_s.resid)\n",
    "# дополнительно, с помощью seaborn.jointplot(kind='reg') посмотрим на линейную регрессию остатоков\n",
    "sns.jointplot(x=X_s_const.iloc[:, 1], y=result_s.resid, kind='reg')\n",
    "plt.show()"
   ]
  },
  {
   "cell_type": "code",
   "execution_count": 110,
   "id": "ae4be7db",
   "metadata": {},
   "outputs": [
    {
     "data": {
      "image/png": "[encoded data removed]",
      "text/plain": [
       "<Figure size 432x288 with 1 Axes>"
      ]
     },
     "metadata": {
      "needs_background": "light"
     },
     "output_type": "display_data"
    },
    {
     "data": {
      "image/png": "[encoded data removed]",
      "text/plain": [
       "<Figure size 432x432 with 3 Axes>"
      ]
     },
     "metadata": {
      "needs_background": "light"
     },
     "output_type": "display_data"
    }
   ],
   "source": [
    "# через функцию resid в библиотеке statsmodels получим значения остатков и выведем их посмотрим их на точечной диаграмме\n",
    "plt.scatter(X_n_const.iloc[:, 1], result_n.resid)\n",
    "# дополнительно, с помощью seaborn.jointplot(kind='reg') посмотрим на линейную регрессию остатоков\n",
    "sns.jointplot(x=X_n_const.iloc[:, 1], y=result_n.resid, kind='reg')\n",
    "plt.show()"
   ]
  },
  {
   "cell_type": "code",
   "execution_count": 111,
   "id": "82cf62ca",
   "metadata": {},
   "outputs": [
    {
     "data": {
      "text/plain": [
       "(array([1., 2., 1., 2., 4., 2., 1., 4., 1., 2.]),\n",
       " array([-221.81972975, -179.38786535, -136.95600096,  -94.52413656,\n",
       "         -52.09227216,   -9.66040776,   32.77145664,   75.20332103,\n",
       "         117.63518543,  160.06704983,  202.49891423]),\n",
       " <BarContainer object of 10 artists>)"
      ]
     },
     "execution_count": 111,
     "metadata": {},
     "output_type": "execute_result"
    },
    {
     "data": {
      "image/png": "[encoded data removed]",
      "text/plain": [
       "<Figure size 432x288 with 1 Axes>"
      ]
     },
     "metadata": {
      "needs_background": "light"
     },
     "output_type": "display_data"
    }
   ],
   "source": [
    "plt.hist(result_s.resid)"
   ]
  },
  {
   "cell_type": "code",
   "execution_count": 112,
   "id": "17f33774",
   "metadata": {},
   "outputs": [
    {
     "data": {
      "text/plain": [
       "(array([3., 3., 3., 1., 3., 2., 3., 5., 3., 4.]),\n",
       " array([-208.57595938, -169.91077545, -131.24559153,  -92.5804076 ,\n",
       "         -53.91522368,  -15.25003976,   23.41514417,   62.08032809,\n",
       "         100.74551202,  139.41069594,  178.07587986]),\n",
       " <BarContainer object of 10 artists>)"
      ]
     },
     "execution_count": 112,
     "metadata": {},
     "output_type": "execute_result"
    },
    {
     "data": {
      "image/png": "[encoded data removed]",
      "text/plain": [
       "<Figure size 432x288 with 1 Axes>"
      ]
     },
     "metadata": {
      "needs_background": "light"
     },
     "output_type": "display_data"
    }
   ],
   "source": [
    "plt.hist(result_n.resid)"
   ]
  },
  {
   "cell_type": "markdown",
   "id": "dbe16883",
   "metadata": {},
   "source": [
    "Остатки распределны с нулевым средним значением \n",
    "На точечной диаграмме наблюдаем рассеяние точек. Системы не просматривается.\n",
    "Из этого можем сделать вывод, наклон линии регрессии для ДС выбран верно (для тех данных, что у нас имеются)\n",
    "\n",
    "Вместе с тем, распределние остатков не выглядит нормальным ни для одного ДС. \n",
    "\n",
    "Предполагаемая причина - маленькое кол-во данных для обоих моделей. "
   ]
  },
  {
   "cell_type": "markdown",
   "id": "55d9008a",
   "metadata": {},
   "source": [
    "## Общий вывод: \n",
    "При разделении ДС по локациям, учитывая распределение показателей и различные коэф, ставим под сомнение зависимость показателя смертности от жесткости воды в городе\n",
    "\n",
    "Важно отметить: \n",
    "1. Помимо жесткости воды необхоидмо учитывать наличие производства продуктов питания в каждом городе, что может влиять на соседние города, потребляющие данные продукты. \n",
    "2. Важно принимать во внимание развитость медицинского обслуживания, что напрямую будет влиять на показатели смертности \n",
    "3. К дополнительным факторам также следует отнести уровени дохода, преступности, состояния воздуха и т.д. "
   ]
  }
 ],
 "metadata": {
  "kernelspec": {
   "display_name": "Python 3 (ipykernel)",
   "language": "python",
   "name": "python3"
  },
  "language_info": {
   "codemirror_mode": {
    "name": "ipython",
    "version": 3
   },
   "file_extension": ".py",
   "mimetype": "text/x-python",
   "name": "python",
   "nbconvert_exporter": "python",
   "pygments_lexer": "ipython3",
   "version": "3.9.7"
  }
 },
 "nbformat": 4,
 "nbformat_minor": 5
}
